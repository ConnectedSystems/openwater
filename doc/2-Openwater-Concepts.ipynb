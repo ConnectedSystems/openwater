{
 "cells": [
  {
   "cell_type": "markdown",
   "metadata": {},
   "source": [
    "# Graph concepts\n",
    "\n",
    "This notebook elaborates on the graph structure of Openwater models, including how the graph is translated to an execution plan, and how useful metadata is captured to help with model parameterisation and reporting."
   ]
  },
  {
   "cell_type": "markdown",
   "metadata": {},
   "source": [
    "## Openwater Graphs\n",
    "\n",
    "Openwater models are represented as directed acyclic graphs.\n"
   ]
  },
  {
   "cell_type": "code",
   "execution_count": null,
   "metadata": {},
   "outputs": [],
   "source": []
  },
  {
   "cell_type": "code",
   "execution_count": null,
   "metadata": {},
   "outputs": [],
   "source": []
  },
  {
   "cell_type": "markdown",
   "metadata": {},
   "source": [
    "## Simulation Plans\n",
    "\n",
    "The model graph can be used to identify a simulation _order_, whereby all individual components are placed in a sequence, whereby component simulations take place before the simulation of dependent components."
   ]
  },
  {
   "cell_type": "code",
   "execution_count": null,
   "metadata": {},
   "outputs": [],
   "source": []
  },
  {
   "cell_type": "code",
   "execution_count": null,
   "metadata": {},
   "outputs": [],
   "source": []
  },
  {
   "cell_type": "markdown",
   "metadata": {},
   "source": [
    "## Model Dimensions\n",
    "\n",
    "The Openwater model is, ultimately, a single graph of components and linkages. While, conceptually, the model might be made up of response units, grouped into catchments, which exist in a topology, the graph represents the finest scale model components. That is, the graph doesn't retain any information about the user's conceptualisation of the model.\n",
    "\n",
    "For this reason, we capture metadata in the graph that allows us to reconstruct the conceptual structure as required. The metadata is captured as **dimensions**, with each type of model being represented having a set of instances described along one or more dimensions.\n",
    "\n",
    "For example, in the semi-lumped catchment recipe, each of the _n_ sub-catchments has m Hydrological Response Units, with using a rainfall runoff models - so rainfall runoff has two dimensions - Subcatchment and Hydrological Response Unit - and is represented as a two dimensional, n x m structure.\n",
    "\n",
    "Similarly, each of the sub-catchments has p Constituents Generation Units, each of which generations each of the q Constituents using a constituent generation model, so constituent generation has the three dimensions - Subcatchment, Constituent Generation Unit and Constituent."
   ]
  },
  {
   "cell_type": "code",
   "execution_count": null,
   "metadata": {},
   "outputs": [],
   "source": []
  }
 ],
 "metadata": {
  "kernelspec": {
   "display_name": "Python 3",
   "language": "python",
   "name": "python3"
  },
  "language_info": {
   "codemirror_mode": {
    "name": "ipython",
    "version": 3
   },
   "file_extension": ".py",
   "mimetype": "text/x-python",
   "name": "python",
   "nbconvert_exporter": "python",
   "pygments_lexer": "ipython3",
   "version": "3.6.5"
  }
 },
 "nbformat": 4,
 "nbformat_minor": 2
}
