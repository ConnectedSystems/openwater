{
 "cells": [
  {
   "cell_type": "markdown",
   "metadata": {},
   "source": [
    "\n",
    "# Openwater: Introduction and Concepts\n",
    "\n",
    "Openwater is a catchment modelling system built with the following objectives:\n",
    "\n",
    "1. Flexibility:\n",
    "  * **Modular** - Component algorithms with defined \n",
    "  * **Algorithmic** - Ability to add new model algorithms\n",
    "  * **Model Structure and Methodology** - Not tied to any particular spatial structure.\n",
    "  * **High level, scripted interface** - Models constructed in Python scripts. Layers of modules and recipes for capturing common approaches\n",
    "2. Performance:\n",
    "  * **Optimise workloads** - Schedules models based on dependencies and workload\n",
    "  * **Group like models** - To allow for data-parallel approaches\n",
    "  * **High level languages** - Model kernels implemented in native languages\n",
    "3. Free and Open Source:\n",
    "  * **Free as in speech** - License allows you to use, share and modify the software\n",
    "  * **Permissive License** - Means you can create a proprietary derivative if you wish\n",
    "  * **Community** - Hopefully people see value in working together to advance the ocmmon good\n",
    "\n"
   ]
  },
  {
   "cell_type": "code",
   "execution_count": null,
   "metadata": {},
   "outputs": [],
   "source": []
  },
  {
   "cell_type": "code",
   "execution_count": null,
   "metadata": {},
   "outputs": [],
   "source": []
  },
  {
   "cell_type": "markdown",
   "metadata": {},
   "source": [
    "\n",
    "##  Example 1 - Semi Lumped Catchment Model\n",
    "\n",
    "Model characteristics\n",
    "\n",
    "* Catchment structure derived from DEM\n",
    "* Catchment response units (within subcatchments) defined by land use\n",
    "* Gridded climate data used to derive catchment average precip and PET\n",
    "\n",
    "In this example, we'll use an Openwater model 'recipe' - a predefined method for generating a model structure from input data. As we'll see, we provide a few key details (data paths, model parameters) and then the model setup and simulation process proceeds automatically. Later exmamples will dive into this logic to see how customised approaches can be used.\n",
    "\n",
    "_See end to end notebook using precanned module_\n",
    "\n"
   ]
  },
  {
   "cell_type": "code",
   "execution_count": 1,
   "metadata": {},
   "outputs": [],
   "source": [
    "## Model configuration"
   ]
  },
  {
   "cell_type": "code",
   "execution_count": 2,
   "metadata": {},
   "outputs": [],
   "source": [
    "## Setting up"
   ]
  },
  {
   "cell_type": "code",
   "execution_count": 3,
   "metadata": {},
   "outputs": [],
   "source": [
    "## Running"
   ]
  },
  {
   "cell_type": "code",
   "execution_count": null,
   "metadata": {},
   "outputs": [],
   "source": [
    "## Results"
   ]
  },
  {
   "cell_type": "code",
   "execution_count": null,
   "metadata": {},
   "outputs": [],
   "source": []
  },
  {
   "cell_type": "markdown",
   "metadata": {},
   "source": [
    "## Example 2 - Custom Model Template\n",
    "\n",
    "The first example demonstrates how a model recipe can be used to setup a model based on a predefined model structure.\n",
    "\n",
    "Here, we will look at the building blocks of the previous recipe, to see how model structures are defined, and how new model structures can be created.\n",
    "\n",
    "As we'll see later, Openwater models are collections of individual model components, connected together in a graph showing how the outputs of one model become inputs of other models. Ultimately is just this _one, single graph_, that shows how everything in the overall model fits togehter.\n",
    "\n",
    "However, it is often useful to conceptualise the model as two (or potentially more) groups of nested graphs. For example:\n",
    "\n",
    "1. **A subcatchment level, _template_ graph**, that sets out how different components fit together within a single sub-catchment, and\n",
    "2. **A basin graph**, that connects different subcatchments together.\n",
    "\n",
    "Or, perhaps:\n",
    "\n",
    "1. **A response unit template graph**, that shows how a single land type is modelled,\n",
    "2. **A sub-catchment template**, that connects together the different land types represented in a subcatchment,\n",
    "3. **A basing graph**, connecting subcatchments.\n",
    "\n",
    "The semi-lumped catchment example, above, is built using a variation of this 3-tiered approach. In th example, the subcatchment template is made up of overlapping Hydrological Response Units (for runoff) and Constituent Generation Units (for water quality), with 1 HRU driving 0 to many CGUs. The various CGUs are summed together to form the output of subcatchment. Subcatchments are defined using the DEM and the TauDEM package, with the resulting catchment topology used to link the subcatchment templates together."
   ]
  },
  {
   "cell_type": "code",
   "execution_count": null,
   "metadata": {},
   "outputs": [],
   "source": []
  },
  {
   "cell_type": "markdown",
   "metadata": {},
   "source": [
    "## Next - Graph Concepts\n",
    "\n",
    "The [next notebook](1-Openwater-Concepts.ipynb) elaborate on core concepts of the model graph, as well as graph metadata for retaining the key dimensions of the model."
   ]
  },
  {
   "cell_type": "code",
   "execution_count": null,
   "metadata": {},
   "outputs": [],
   "source": []
  }
 ],
 "metadata": {
  "kernelspec": {
   "display_name": "Python 3",
   "language": "python",
   "name": "python3"
  },
  "language_info": {
   "codemirror_mode": {
    "name": "ipython",
    "version": 3
   },
   "file_extension": ".py",
   "mimetype": "text/x-python",
   "name": "python",
   "nbconvert_exporter": "python",
   "pygments_lexer": "ipython3",
   "version": "3.6.5"
  }
 },
 "nbformat": 4,
 "nbformat_minor": 2
}
