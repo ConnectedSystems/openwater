{
 "cells": [
  {
   "cell_type": "markdown",
   "metadata": {},
   "source": [
    "# Example 2 - Custom Template\n",
    "\n",
    "Example 1 showed how a pre-defined recipe could be used to build up a model - in this case around semi-lumped catchments generating runoff and constituent loads.\n",
    "\n",
    "This example looks at how a new recipe might be built, starting with a template for a repeatable model unit.\n",
    "\n",
    "Where the SemiLumpedCatchment allowed some configuration by the user (in terms of constituents, HRUs, CGUs), here we will lock down the configuration as you might do when building a bespoke solution.\n",
    "\n",
    "Here, we will look at a model that estimates hillslope fine sediment. The template might be applied at different spatial scales, ranging from grid cell to subcatchment."
   ]
  },
  {
   "cell_type": "code",
   "execution_count": 1,
   "metadata": {},
   "outputs": [],
   "source": [
    "from openwater.discovery import discover\n",
    "from openwater import OWTemplate, OWLink\n",
    "import openwater.nodes as n\n",
    "import openwater.template as templating\n",
    "\n",
    "import numpy as np\n",
    "import matplotlib.pyplot as plt\n",
    "%matplotlib inline"
   ]
  },
  {
   "cell_type": "code",
   "execution_count": 2,
   "metadata": {},
   "outputs": [
    {
     "data": {
      "text/plain": [
       "['DepthToRate',\n",
       " 'EmcDwc',\n",
       " 'GR4J',\n",
       " 'LumpedConstituentRouting',\n",
       " 'Muskingum',\n",
       " 'RunoffCoefficient',\n",
       " 'Sacramento',\n",
       " 'Simhyd',\n",
       " 'USLEFineSedimentGeneration']"
      ]
     },
     "execution_count": 2,
     "metadata": {},
     "output_type": "execute_result"
    }
   ],
   "source": [
    "discover()"
   ]
  },
  {
   "cell_type": "markdown",
   "metadata": {},
   "source": [
    "## Constructing the template\n",
    "\n",
    "We will apply the template to every grid cell in a map.\n",
    "\n",
    "The template will represent rainfall runoff and hillslope fine sediment generation. Then there will be a transport process for moving the sediment downstream.\n",
    "\n",
    "We won't go all the way through parameterisation. Just the template and then applying the template to the map\n",
    "\n",
    "We build everything up in an `OWTemplate` object"
   ]
  },
  {
   "cell_type": "code",
   "execution_count": 3,
   "metadata": {},
   "outputs": [],
   "source": [
    "template = OWTemplate()"
   ]
  },
  {
   "cell_type": "markdown",
   "metadata": {},
   "source": [
    "Now we can add various nodes. A node simply represents a point where a model algorithm will run. (so, even routing processes are made up of nodes).\n",
    "\n",
    "The main thing is that we specify a model (eg `n.GR4J`) but we can also add adhoc tags. When we apply the template to the map, we'll add additional tags (like row, column, or in other cases, catchment)"
   ]
  },
  {
   "cell_type": "code",
   "execution_count": 4,
   "metadata": {},
   "outputs": [],
   "source": [
    "sediment_node = template.add_node(n.USLEFineSedimentGeneration,process='Hillslope')"
   ]
  },
  {
   "cell_type": "code",
   "execution_count": 5,
   "metadata": {},
   "outputs": [],
   "source": [
    "runoff_node = template.add_node(n.GR4J,process='Runoff')"
   ]
  },
  {
   "cell_type": "code",
   "execution_count": 6,
   "metadata": {},
   "outputs": [],
   "source": [
    "scale_node = template.add_node(n.DepthToRate,process='RunoffScaling')"
   ]
  },
  {
   "cell_type": "markdown",
   "metadata": {},
   "source": [
    "We also need to specify the connections between models **within** the template. These connections are **links** - simply representing the movement of data between two nodes. There is no transformation on links. (Although its worth noting that when two links feed into the one variable on a single node, their values are **summed**)"
   ]
  },
  {
   "cell_type": "code",
   "execution_count": 7,
   "metadata": {},
   "outputs": [],
   "source": [
    "template.add_link(OWLink(runoff_node,'runoff',scale_node,'input'))\n",
    "\n",
    "template.add_link(OWLink(scale_node,'outflow',sediment_node,'quickflow'))\n"
   ]
  },
  {
   "cell_type": "markdown",
   "metadata": {},
   "source": [
    "Now we add one more node and link, to represent the routing process. In this template we really just want this to help us link up multiple instances of the template between catchments:"
   ]
  },
  {
   "cell_type": "code",
   "execution_count": 8,
   "metadata": {},
   "outputs": [],
   "source": [
    "transport_node = template.add_node(n.LumpedConstituentRouting,process='Transport')"
   ]
  },
  {
   "cell_type": "code",
   "execution_count": 9,
   "metadata": {},
   "outputs": [],
   "source": [
    "template.add_link(OWLink(sediment_node,'totalLoad',transport_node,'lateralLoad'))"
   ]
  },
  {
   "cell_type": "markdown",
   "metadata": {},
   "source": [
    "# Spatial Structure\n",
    "\n",
    "We will construct the model by applying the template to every grid cell in (fabricated) map.\n",
    "\n",
    "In this case, the map will be square. We need a flow direction grid to show where things accumulate. We will say that any point North of the NW-SE diagonal will flow south (5). Any point to the west of the diagonal will flow east (3) and any point on the diagonal will flow Sout East (4)."
   ]
  },
  {
   "cell_type": "code",
   "execution_count": 10,
   "metadata": {},
   "outputs": [],
   "source": [
    "def dummy_pointer_grid(sz):\n",
    "    arr = np.ones(sz**2).reshape(sz,sz)\n",
    "    for row,col in list(zip(*np.where(arr))):\n",
    "        if row < col:\n",
    "            arr[row,col] = 5\n",
    "        elif col < row:\n",
    "            arr[row,col] = 3\n",
    "        else:\n",
    "            arr[row,col] = 4\n",
    "    return arr"
   ]
  },
  {
   "cell_type": "code",
   "execution_count": 11,
   "metadata": {},
   "outputs": [],
   "source": [
    "GRID_SIZE=10"
   ]
  },
  {
   "cell_type": "code",
   "execution_count": 12,
   "metadata": {},
   "outputs": [
    {
     "data": {
      "text/plain": [
       "<matplotlib.colorbar.Colorbar at 0x7f8d4b16df98>"
      ]
     },
     "execution_count": 12,
     "metadata": {},
     "output_type": "execute_result"
    },
    {
     "data": {
      "image/png": "[encoded data removed]",
      "text/plain": [
       "<matplotlib.figure.Figure at 0x7f8d4b1da6a0>"
      ]
     },
     "metadata": {},
     "output_type": "display_data"
    }
   ],
   "source": [
    "arr = dummy_pointer_grid(GRID_SIZE)\n",
    "plt.imshow(arr)\n",
    "plt.colorbar()"
   ]
  },
  {
   "cell_type": "markdown",
   "metadata": {},
   "source": [
    "## Build the model graph\n",
    "\n",
    "We now combine the pointer map, with the model template to come up with a single model graph, `g`.\n",
    "\n",
    "This will represent the template in every grid cell. So, we have 100 grid cells resulting in 100 GR4J nodes, etc.\n",
    "\n",
    "We build it up incrementally, **and add relevant tags as we go**. In this case, we add row and col tags"
   ]
  },
  {
   "cell_type": "code",
   "execution_count": 13,
   "metadata": {},
   "outputs": [],
   "source": [
    "g = None\n",
    "\n",
    "for row,col in list(zip(*np.where(arr))):\n",
    "    g = templating.template_to_graph(g,template,row=row,col=col)\n"
   ]
  },
  {
   "cell_type": "markdown",
   "metadata": {},
   "source": [
    "At this point, out graph contains 100 copies of the template, with row and col tags.\n",
    "\n",
    "Now we need to link them up. Here we look back at the pointer map to see what direction a grid cell flows (and we just include E, SE, and S options!)\n",
    "\n",
    "From the direction we can work out the destination grid cell and hence the destination node. We then add a link between the `LumpedConstituentRouting` nodes in each grid cell"
   ]
  },
  {
   "cell_type": "code",
   "execution_count": 14,
   "metadata": {},
   "outputs": [],
   "source": [
    "for row,col in list(zip(*np.where(arr))):\n",
    "    ptr = arr[row,col]\n",
    "    if ptr==3:\n",
    "        dest_row = row\n",
    "        dest_col = col+1\n",
    "    elif ptr==5:\n",
    "        dest_row = row+1\n",
    "        dest_col = col\n",
    "    else:\n",
    "        dest_row = row+1\n",
    "        dest_col = col+1\n",
    "\n",
    "    if dest_row >= GRID_SIZE:\n",
    "        continue\n",
    "    src_node = templating.match_nodes(g,_model='LumpedConstituentRouting',row=row,col=col)[0]\n",
    "    dest_node = templating.match_nodes(g,_model='LumpedConstituentRouting',row=dest_row,col=dest_col)[0]\n",
    "    \n",
    "    g.add_edge(src_node,dest_node,src=['outflowLoad'],dest=['inflowLoad'])"
   ]
  },
  {
   "cell_type": "markdown",
   "metadata": {},
   "source": [
    "Now we have the graph, we can convert it to an OpenWater model graph, which includes scheduling the models to run in different batches"
   ]
  },
  {
   "cell_type": "code",
   "execution_count": 15,
   "metadata": {},
   "outputs": [],
   "source": [
    "model = templating.ModelGraph(g)"
   ]
  },
  {
   "cell_type": "code",
   "execution_count": 16,
   "metadata": {},
   "outputs": [
    {
     "name": "stdout",
     "output_type": "stream",
     "text": [
      "[19, 36, 51, 64, 56, 48, 40, 32, 24, 16, 9, 4, 1]\n"
     ]
    },
    {
     "data": {
      "image/png": "[encoded data removed]",
      "text/plain": [
       "<matplotlib.figure.Figure at 0x7f8d4b12fda0>"
      ]
     },
     "metadata": {},
     "output_type": "display_data"
    }
   ],
   "source": [
    "stage_lengths = [len(s) for s in model.order]\n",
    "plt.plot(stage_lengths,label='sl')\n",
    "print(stage_lengths)"
   ]
  },
  {
   "cell_type": "code",
   "execution_count": null,
   "metadata": {},
   "outputs": [],
   "source": []
  }
 ],
 "metadata": {
  "kernelspec": {
   "display_name": "Python 3",
   "language": "python",
   "name": "python3"
  },
  "language_info": {
   "codemirror_mode": {
    "name": "ipython",
    "version": 3
   },
   "file_extension": ".py",
   "mimetype": "text/x-python",
   "name": "python",
   "nbconvert_exporter": "python",
   "pygments_lexer": "ipython3",
   "version": "3.6.5"
  }
 },
 "nbformat": 4,
 "nbformat_minor": 2
}
